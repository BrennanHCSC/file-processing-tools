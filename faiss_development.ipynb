{
 "cells": [
  {
   "cell_type": "code",
   "execution_count": 1,
   "metadata": {},
   "outputs": [],
   "source": [
    "import os\n",
    "import json\n",
    "import logging\n",
    "from typing import Optional\n",
    "from pathlib import Path\n",
    "\n",
    "import pandas as pd\n",
    "import numpy as np\n",
    "from tqdm import tqdm\n",
    "from file_processing import File\n",
    "from file_processing.tools.errors import EmptySelection\n",
    "\n",
    "import faiss\n",
    "from sentence_transformers import SentenceTransformer"
   ]
  },
  {
   "attachments": {},
   "cell_type": "markdown",
   "metadata": {},
   "source": [
    "# Preprocess the files to embeddings"
   ]
  },
  {
   "cell_type": "code",
   "execution_count": 2,
   "metadata": {},
   "outputs": [],
   "source": [
    "from file_processing import Directory\n",
    "\n",
    "directory = Directory('./tests/resources/similarity_test_files/')"
   ]
  },
  {
   "attachments": {},
   "cell_type": "markdown",
   "metadata": {},
   "source": [
    "Preprocess the files to extract the text"
   ]
  },
  {
   "cell_type": "code",
   "execution_count": 3,
   "metadata": {},
   "outputs": [
    {
     "name": "stderr",
     "output_type": "stream",
     "text": [
      "Processing files: 20 files completed [00:00, 79.66 files completed/s]\n"
     ]
    },
    {
     "data": {
      "text/plain": [
       "0     Aviation safety in CanadaFrom: Transport Canad...\n",
       "1     The Canadian ConstitutionA constitution provid...\n",
       "2     Causes of climate changeWhat is the most impor...\n",
       "3     COVID-19: Symptoms, treatment, what to do if y...\n",
       "4     Canada Pension Plan disability benefitsOvervie...\n",
       "5     CPP Retirement pensionOverviewThe Canada Pensi...\n",
       "6     Documents for Express EntryYou need certain do...\n",
       "7     EI regular benefitsHow much you could receiveF...\n",
       "8     How Express Entry worksExpress Entry is an onl...\n",
       "9     Funding - Culture, history and sportCOVID-19: ...\n",
       "10    Canada's health care systemLearn about Canada'...\n",
       "11    History of CanadaCanadian history does not beg...\n",
       "12    How the Courts are OrganizedPrevious Page Tabl...\n",
       "13    Our Security, Our RightsOn June 21, 2019, an A...\n",
       "14    Net-zero emissions by 2050The transition to a ...\n",
       "15    Origin of the name \"Canada\"Today, it seems imp...\n",
       "16    Personal income taxGet ready to do your taxesC...\n",
       "17    Starting a businessTable of contentsBefore you...\n",
       "18    Travel advice and advisories by destinationCOV...\n",
       "19    TravellersVisitors to CanadaHave proper identi...\n",
       "Name: metadata_text, dtype: object"
      ]
     },
     "execution_count": 3,
     "metadata": {},
     "output_type": "execute_result"
    }
   ],
   "source": [
    "data = [file.processor.__dict__ for file in directory._file_generator()]\n",
    "data = pd.json_normalize(data, max_level=1, sep='_')\n",
    "df = pd.DataFrame(data)\n",
    "\n",
    "if df.empty:\n",
    "    raise EmptySelection(f'Filtered selection of files is empty')\n",
    "elif not df.empty:\n",
    "    df = df.get(['size', 'extension', 'file_name',\n",
    "                'metadata_text', 'absolute_path'])\n",
    "    \n",
    "df['metadata_text'] = df['metadata_text'].str.strip()\n",
    "df['metadata_text'] = df['metadata_text'].str.replace('\\n', '')\n",
    "\n",
    "# Only keeping pdf/docx/txt files with sufficiently long 'text' metadata\n",
    "df = df[(df['extension'].isin(['.pdf', '.docx', '.txt'])) &\n",
    "        (df['metadata_text'].str.len() > 10) &\n",
    "        (df['metadata_text'].notnull())]\n",
    "df = df.reset_index(drop=True)\n",
    "file_names = df.file_name\n",
    "\n",
    "# Encoding\n",
    "encoder = SentenceTransformer(\"paraphrase-MiniLM-L3-v2\")\n",
    "vectors = encoder.encode(df['metadata_text'])\n",
    "\n",
    "df['metadata_text']"
   ]
  },
  {
   "cell_type": "code",
   "execution_count": 4,
   "metadata": {},
   "outputs": [
    {
     "data": {
      "text/plain": [
       "(20, 384)"
      ]
     },
     "execution_count": 4,
     "metadata": {},
     "output_type": "execute_result"
    }
   ],
   "source": [
    "vectors.shape"
   ]
  },
  {
   "cell_type": "code",
   "execution_count": 5,
   "metadata": {},
   "outputs": [],
   "source": [
    "np.save(\"tests/resources/faiss_test_files/sample_embeddings.npy\", vectors)"
   ]
  },
  {
   "cell_type": "code",
   "execution_count": 6,
   "metadata": {},
   "outputs": [
    {
     "data": {
      "text/plain": [
       "(20, 384)"
      ]
     },
     "execution_count": 6,
     "metadata": {},
     "output_type": "execute_result"
    }
   ],
   "source": [
    "np.load(\"tests/resources/faiss_test_files/sample_embeddings.npy\").shape"
   ]
  },
  {
   "attachments": {},
   "cell_type": "markdown",
   "metadata": {},
   "source": [
    "Do the FAISS Development"
   ]
  },
  {
   "cell_type": "code",
   "execution_count": 7,
   "metadata": {},
   "outputs": [
    {
     "data": {
      "text/plain": [
       "20"
      ]
     },
     "execution_count": 7,
     "metadata": {},
     "output_type": "execute_result"
    }
   ],
   "source": [
    "d = vectors.shape[1]\n",
    "\n",
    "index = faiss.IndexFlatIP(d)\n",
    "index.add(vectors)\n",
    "index.ntotal"
   ]
  },
  {
   "cell_type": "code",
   "execution_count": 8,
   "metadata": {},
   "outputs": [
    {
     "data": {
      "text/plain": [
       "(2, 384)"
      ]
     },
     "execution_count": 8,
     "metadata": {},
     "output_type": "execute_result"
    }
   ],
   "source": [
    "query_vec = encoder.encode([\"Define data science\", \"what is the meaning of life?\"])\n",
    "# query_vec = query_vec[np.newaxis,:]\n",
    "query_vec.shape"
   ]
  },
  {
   "cell_type": "code",
   "execution_count": 9,
   "metadata": {},
   "outputs": [],
   "source": [
    "np.save(\"tests/resources/faiss_test_files/sample_query_vector.npy\", query_vec)"
   ]
  },
  {
   "cell_type": "code",
   "execution_count": 10,
   "metadata": {},
   "outputs": [],
   "source": [
    "D, I = index.search(query_vec, 3)"
   ]
  },
  {
   "cell_type": "code",
   "execution_count": 11,
   "metadata": {},
   "outputs": [
    {
     "name": "stdout",
     "output_type": "stream",
     "text": [
      "[[2.786271   2.458615   1.839469  ]\n",
      " [1.2800186  1.0237789  0.94802046]]\n"
     ]
    }
   ],
   "source": [
    "print(D)"
   ]
  },
  {
   "cell_type": "code",
   "execution_count": 12,
   "metadata": {},
   "outputs": [
    {
     "name": "stdout",
     "output_type": "stream",
     "text": [
      "[[14  2 10]\n",
      " [15  1 14]]\n"
     ]
    }
   ],
   "source": [
    "print(I)"
   ]
  },
  {
   "cell_type": "code",
   "execution_count": 13,
   "metadata": {},
   "outputs": [
    {
     "name": "stdout",
     "output_type": "stream",
     "text": [
      "(array([[37.001266, 37.346497, 38.138252],\n",
      "       [26.461792, 27.62289 , 28.612665]], dtype=float32), array([[14, 12, 10],\n",
      "       [15, 12, 19]], dtype=int64))\n"
     ]
    }
   ],
   "source": [
    "from importlib import reload\n",
    "from file_processing.faiss_index import faiss_strategy\n",
    "from file_processing.faiss_index import flat_index\n",
    "reload(flat_index)\n",
    "reload(faiss_strategy)\n",
    "\n",
    "flat = flat_index.FlatIndex(vectors)\n",
    "print(flat.query(query_vec, 3))\n",
    "flat.save_index(\"file_processing/faiss_index/test_index.faiss\")"
   ]
  },
  {
   "cell_type": "code",
   "execution_count": 14,
   "metadata": {},
   "outputs": [
    {
     "data": {
      "text/plain": [
       "(array([[37.001266, 37.346497, 38.138252],\n",
       "        [26.461792, 27.62289 , 28.612665]], dtype=float32),\n",
       " array([[14, 12, 10],\n",
       "        [15, 12, 19]], dtype=int64))"
      ]
     },
     "execution_count": 14,
     "metadata": {},
     "output_type": "execute_result"
    }
   ],
   "source": [
    "from file_processing import faiss_index\n",
    "reload(faiss_index)\n",
    "\n",
    "flat_index = faiss_index.create_flat_index(vectors, \"file_processing/faiss_index/flat.faiss\")\n",
    "flat_index.query(query_vec, 3)"
   ]
  },
  {
   "attachments": {},
   "cell_type": "markdown",
   "metadata": {},
   "source": [
    "Create some files for testing"
   ]
  },
  {
   "cell_type": "code",
   "execution_count": 15,
   "metadata": {},
   "outputs": [],
   "source": [
    "flat = faiss_index.create_flat_index(vectors, \"tests/resources/faiss_test_files/flat.faiss\")\n",
    "ivf = faiss_index.create_IVF_flat_index(vectors, file_path=\"tests/resources/faiss_test_files/ivf.faiss\")\n",
    "# hnsw = faiss_index.create_HNSW_index(vectors, file_path=\"tests/resources/faiss_test_files/hnsw.faiss\")"
   ]
  },
  {
   "cell_type": "code",
   "execution_count": 16,
   "metadata": {},
   "outputs": [],
   "source": [
    "hnsw = faiss_index.create_HNSW_index(vectors, file_path=\"tests/resources/faiss_test_files/hnsw.faiss\")"
   ]
  },
  {
   "cell_type": "code",
   "execution_count": 25,
   "metadata": {},
   "outputs": [
    {
     "data": {
      "text/plain": [
       "file_processing.faiss_index.HNSW_index.HNSWIndex"
      ]
     },
     "execution_count": 25,
     "metadata": {},
     "output_type": "execute_result"
    }
   ],
   "source": [
    "type(hnsw)"
   ]
  },
  {
   "cell_type": "code",
   "execution_count": 37,
   "metadata": {},
   "outputs": [
    {
     "data": {
      "text/plain": [
       "(array([[3.7346497e+01, 3.8138252e+01, 3.4028235e+38, 3.4028235e+38,\n",
       "         3.4028235e+38, 3.4028235e+38, 3.4028235e+38, 3.4028235e+38],\n",
       "        [2.6461792e+01, 2.8612665e+01, 2.9678551e+01, 2.9906456e+01,\n",
       "         3.1259750e+01, 3.2736320e+01, 3.4028235e+38, 3.4028235e+38]],\n",
       "       dtype=float32),\n",
       " array([[12, 10, -1, -1, -1, -1, -1, -1],\n",
       "        [15, 19,  6, 11,  9, 18, -1, -1]], dtype=int64))"
      ]
     },
     "execution_count": 37,
     "metadata": {},
     "output_type": "execute_result"
    }
   ],
   "source": [
    "ivf2 = faiss_index.create_IVF_flat_index(vectors, nlist=10)\n",
    "ivf2.query(query_vec, k=8, nprobe=1)"
   ]
  },
  {
   "cell_type": "code",
   "execution_count": 44,
   "metadata": {},
   "outputs": [],
   "source": [
    "# try creating new index\n",
    "d = vectors.shape[1]\n",
    "quantizer = faiss.IndexFlatL2(d)\n",
    "ivfpq = faiss.IndexIVFPQ(quantizer, d, 4, 8, 3)\n",
    "ivfpq.train(vectors)\n",
    "ivfpq.add(vectors)\n",
    "faiss.write_index(ivfpq, \"tests/resources/faiss_test_files/ivfpq.faiss\")"
   ]
  }
 ],
 "metadata": {
  "kernelspec": {
   "display_name": "Python 3",
   "language": "python",
   "name": "python3"
  },
  "language_info": {
   "codemirror_mode": {
    "name": "ipython",
    "version": 3
   },
   "file_extension": ".py",
   "mimetype": "text/x-python",
   "name": "python",
   "nbconvert_exporter": "python",
   "pygments_lexer": "ipython3",
   "version": "3.10.4"
  },
  "orig_nbformat": 4
 },
 "nbformat": 4,
 "nbformat_minor": 2
}
