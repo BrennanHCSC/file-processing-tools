{
 "cells": [
  {
   "cell_type": "code",
   "execution_count": 1,
   "metadata": {},
   "outputs": [],
   "source": [
    "import os\n",
    "import json\n",
    "import logging\n",
    "from typing import Optional\n",
    "from pathlib import Path\n",
    "\n",
    "import pandas as pd\n",
    "import numpy as np\n",
    "from tqdm import tqdm\n",
    "from file_processing import File\n",
    "from file_processing.tools.errors import EmptySelection\n",
    "\n",
    "import faiss\n",
    "from sentence_transformers import SentenceTransformer"
   ]
  },
  {
   "attachments": {},
   "cell_type": "markdown",
   "metadata": {},
   "source": [
    "# Preprocess the files to embeddings"
   ]
  },
  {
   "cell_type": "code",
   "execution_count": 2,
   "metadata": {},
   "outputs": [],
   "source": [
    "from file_processing import Directory\n",
    "\n",
    "directory = Directory('./tests/resources/similarity_test_files/')"
   ]
  },
  {
   "attachments": {},
   "cell_type": "markdown",
   "metadata": {},
   "source": [
    "Preprocess the files to extract the text"
   ]
  },
  {
   "cell_type": "code",
   "execution_count": 3,
   "metadata": {},
   "outputs": [
    {
     "name": "stderr",
     "output_type": "stream",
     "text": [
      "Processing files: 20 files completed [00:00, 77.82 files completed/s]\n"
     ]
    },
    {
     "data": {
      "text/plain": [
       "0     Aviation safety in CanadaFrom: Transport Canad...\n",
       "1     The Canadian ConstitutionA constitution provid...\n",
       "2     Causes of climate changeWhat is the most impor...\n",
       "3     COVID-19: Symptoms, treatment, what to do if y...\n",
       "4     Canada Pension Plan disability benefitsOvervie...\n",
       "5     CPP Retirement pensionOverviewThe Canada Pensi...\n",
       "6     Documents for Express EntryYou need certain do...\n",
       "7     EI regular benefitsHow much you could receiveF...\n",
       "8     How Express Entry worksExpress Entry is an onl...\n",
       "9     Funding - Culture, history and sportCOVID-19: ...\n",
       "10    Canada's health care systemLearn about Canada'...\n",
       "11    History of CanadaCanadian history does not beg...\n",
       "12    How the Courts are OrganizedPrevious Page Tabl...\n",
       "13    Our Security, Our RightsOn June 21, 2019, an A...\n",
       "14    Net-zero emissions by 2050The transition to a ...\n",
       "15    Origin of the name \"Canada\"Today, it seems imp...\n",
       "16    Personal income taxGet ready to do your taxesC...\n",
       "17    Starting a businessTable of contentsBefore you...\n",
       "18    Travel advice and advisories by destinationCOV...\n",
       "19    TravellersVisitors to CanadaHave proper identi...\n",
       "Name: metadata_text, dtype: object"
      ]
     },
     "execution_count": 3,
     "metadata": {},
     "output_type": "execute_result"
    }
   ],
   "source": [
    "data = [file.processor.__dict__ for file in directory._file_generator()]\n",
    "data = pd.json_normalize(data, max_level=1, sep='_')\n",
    "df = pd.DataFrame(data)\n",
    "\n",
    "if df.empty:\n",
    "    raise EmptySelection(f'Filtered selection of files is empty')\n",
    "elif not df.empty:\n",
    "    df = df.get(['size', 'extension', 'file_name',\n",
    "                'metadata_text', 'absolute_path'])\n",
    "    \n",
    "df['metadata_text'] = df['metadata_text'].str.strip()\n",
    "df['metadata_text'] = df['metadata_text'].str.replace('\\n', '')\n",
    "\n",
    "# Only keeping pdf/docx/txt files with sufficiently long 'text' metadata\n",
    "df = df[(df['extension'].isin(['.pdf', '.docx', '.txt'])) &\n",
    "        (df['metadata_text'].str.len() > 10) &\n",
    "        (df['metadata_text'].notnull())]\n",
    "df = df.reset_index(drop=True)\n",
    "file_names = df.file_name\n",
    "\n",
    "# Encoding\n",
    "encoder = SentenceTransformer(\"paraphrase-MiniLM-L3-v2\")\n",
    "vectors = encoder.encode(df['metadata_text'])\n",
    "\n",
    "df['metadata_text']"
   ]
  },
  {
   "cell_type": "code",
   "execution_count": 4,
   "metadata": {},
   "outputs": [
    {
     "data": {
      "text/plain": [
       "(20, 384)"
      ]
     },
     "execution_count": 4,
     "metadata": {},
     "output_type": "execute_result"
    }
   ],
   "source": [
    "vectors.shape"
   ]
  },
  {
   "attachments": {},
   "cell_type": "markdown",
   "metadata": {},
   "source": [
    "Do the FAISS Development"
   ]
  },
  {
   "cell_type": "code",
   "execution_count": 5,
   "metadata": {},
   "outputs": [
    {
     "data": {
      "text/plain": [
       "20"
      ]
     },
     "execution_count": 5,
     "metadata": {},
     "output_type": "execute_result"
    }
   ],
   "source": [
    "d = vectors.shape[1]\n",
    "\n",
    "index = faiss.IndexFlatIP(d)\n",
    "index.add(vectors)\n",
    "index.ntotal"
   ]
  },
  {
   "cell_type": "code",
   "execution_count": 11,
   "metadata": {},
   "outputs": [
    {
     "data": {
      "text/plain": [
       "(2, 384)"
      ]
     },
     "execution_count": 11,
     "metadata": {},
     "output_type": "execute_result"
    }
   ],
   "source": [
    "query_vec = encoder.encode([\"Define data science\", \"what is the meaning of life?\"])\n",
    "# query_vec = query_vec[np.newaxis,:]\n",
    "query_vec.shape"
   ]
  },
  {
   "cell_type": "code",
   "execution_count": 12,
   "metadata": {},
   "outputs": [],
   "source": [
    "D, I = index.search(query_vec, 3)"
   ]
  },
  {
   "cell_type": "code",
   "execution_count": 13,
   "metadata": {},
   "outputs": [
    {
     "name": "stdout",
     "output_type": "stream",
     "text": [
      "[[2.786271   2.458615   1.839469  ]\n",
      " [1.2800186  1.0237789  0.94802046]]\n"
     ]
    }
   ],
   "source": [
    "print(D)"
   ]
  },
  {
   "cell_type": "code",
   "execution_count": 14,
   "metadata": {},
   "outputs": [
    {
     "name": "stdout",
     "output_type": "stream",
     "text": [
      "[[14  2 10]\n",
      " [15  1 14]]\n"
     ]
    }
   ],
   "source": [
    "print(I)"
   ]
  }
 ],
 "metadata": {
  "kernelspec": {
   "display_name": "Python 3",
   "language": "python",
   "name": "python3"
  },
  "language_info": {
   "codemirror_mode": {
    "name": "ipython",
    "version": 3
   },
   "file_extension": ".py",
   "mimetype": "text/x-python",
   "name": "python",
   "nbconvert_exporter": "python",
   "pygments_lexer": "ipython3",
   "version": "3.10.4"
  },
  "orig_nbformat": 4
 },
 "nbformat": 4,
 "nbformat_minor": 2
}
