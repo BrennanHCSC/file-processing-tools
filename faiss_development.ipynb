{
 "cells": [
  {
   "cell_type": "code",
   "execution_count": 1,
   "metadata": {},
   "outputs": [],
   "source": [
    "import os\n",
    "import json\n",
    "import logging\n",
    "from typing import Optional\n",
    "from pathlib import Path\n",
    "\n",
    "import pandas as pd\n",
    "import numpy as np\n",
    "from tqdm import tqdm\n",
    "from file_processing import File\n",
    "from file_processing.tools.errors import EmptySelection\n",
    "\n",
    "import faiss\n",
    "from sentence_transformers import SentenceTransformer"
   ]
  },
  {
   "attachments": {},
   "cell_type": "markdown",
   "metadata": {},
   "source": [
    "# Preprocess the files to embeddings"
   ]
  },
  {
   "cell_type": "code",
   "execution_count": 2,
   "metadata": {},
   "outputs": [],
   "source": [
    "from file_processing import Directory\n",
    "\n",
    "directory = Directory('./tests/resources/similarity_test_files/')"
   ]
  },
  {
   "attachments": {},
   "cell_type": "markdown",
   "metadata": {},
   "source": [
    "Preprocess the files to extract the text"
   ]
  },
  {
   "cell_type": "code",
   "execution_count": 3,
   "metadata": {},
   "outputs": [
    {
     "name": "stderr",
     "output_type": "stream",
     "text": [
      "Processing files: 20 files completed [00:00, 49.58 files completed/s]\n"
     ]
    },
    {
     "data": {
      "application/vnd.jupyter.widget-view+json": {
       "model_id": "67801075cacd4256b9999f24867e2df1",
       "version_major": 2,
       "version_minor": 0
      },
      "text/plain": [
       ".gitattributes:   0%|          | 0.00/744 [00:00<?, ?B/s]"
      ]
     },
     "metadata": {},
     "output_type": "display_data"
    },
    {
     "data": {
      "application/vnd.jupyter.widget-view+json": {
       "model_id": "d8fa29ff673e4364b67f2cb6bf66f120",
       "version_major": 2,
       "version_minor": 0
      },
      "text/plain": [
       "1_Pooling/config.json:   0%|          | 0.00/190 [00:00<?, ?B/s]"
      ]
     },
     "metadata": {},
     "output_type": "display_data"
    },
    {
     "data": {
      "application/vnd.jupyter.widget-view+json": {
       "model_id": "e0b2a46b907b4aef92fa35c3db9bbea9",
       "version_major": 2,
       "version_minor": 0
      },
      "text/plain": [
       "README.md:   0%|          | 0.00/4.04k [00:00<?, ?B/s]"
      ]
     },
     "metadata": {},
     "output_type": "display_data"
    },
    {
     "data": {
      "application/vnd.jupyter.widget-view+json": {
       "model_id": "870cf24819c74e5295b16f2158291d4f",
       "version_major": 2,
       "version_minor": 0
      },
      "text/plain": [
       "config.json:   0%|          | 0.00/629 [00:00<?, ?B/s]"
      ]
     },
     "metadata": {},
     "output_type": "display_data"
    },
    {
     "data": {
      "application/vnd.jupyter.widget-view+json": {
       "model_id": "53c2a3a1d4b94062a33cb4c6c3a23b21",
       "version_major": 2,
       "version_minor": 0
      },
      "text/plain": [
       "config_sentence_transformers.json:   0%|          | 0.00/122 [00:00<?, ?B/s]"
      ]
     },
     "metadata": {},
     "output_type": "display_data"
    },
    {
     "data": {
      "application/vnd.jupyter.widget-view+json": {
       "model_id": "5ad9d75973de4c219a685ec9f21f4b46",
       "version_major": 2,
       "version_minor": 0
      },
      "text/plain": [
       "model.safetensors:   0%|          | 0.00/69.6M [00:00<?, ?B/s]"
      ]
     },
     "metadata": {},
     "output_type": "display_data"
    },
    {
     "data": {
      "application/vnd.jupyter.widget-view+json": {
       "model_id": "fecc839264384402bee207a1be74b968",
       "version_major": 2,
       "version_minor": 0
      },
      "text/plain": [
       "pytorch_model.bin:   0%|          | 0.00/69.6M [00:00<?, ?B/s]"
      ]
     },
     "metadata": {},
     "output_type": "display_data"
    },
    {
     "data": {
      "application/vnd.jupyter.widget-view+json": {
       "model_id": "744c017702744b64aa030e28189271eb",
       "version_major": 2,
       "version_minor": 0
      },
      "text/plain": [
       "sentence_bert_config.json:   0%|          | 0.00/53.0 [00:00<?, ?B/s]"
      ]
     },
     "metadata": {},
     "output_type": "display_data"
    },
    {
     "data": {
      "application/vnd.jupyter.widget-view+json": {
       "model_id": "678df1684ee24bfa9f06339b3c07437f",
       "version_major": 2,
       "version_minor": 0
      },
      "text/plain": [
       "special_tokens_map.json:   0%|          | 0.00/112 [00:00<?, ?B/s]"
      ]
     },
     "metadata": {},
     "output_type": "display_data"
    },
    {
     "data": {
      "application/vnd.jupyter.widget-view+json": {
       "model_id": "3414865d33c242c0bf8aab75d748b2b9",
       "version_major": 2,
       "version_minor": 0
      },
      "text/plain": [
       "tokenizer.json:   0%|          | 0.00/466k [00:00<?, ?B/s]"
      ]
     },
     "metadata": {},
     "output_type": "display_data"
    },
    {
     "data": {
      "application/vnd.jupyter.widget-view+json": {
       "model_id": "4666127b379447fd92ccb2fa6e895330",
       "version_major": 2,
       "version_minor": 0
      },
      "text/plain": [
       "tokenizer_config.json:   0%|          | 0.00/314 [00:00<?, ?B/s]"
      ]
     },
     "metadata": {},
     "output_type": "display_data"
    },
    {
     "data": {
      "application/vnd.jupyter.widget-view+json": {
       "model_id": "097f2355756645b5a5eee8758da0ad66",
       "version_major": 2,
       "version_minor": 0
      },
      "text/plain": [
       "vocab.txt:   0%|          | 0.00/232k [00:00<?, ?B/s]"
      ]
     },
     "metadata": {},
     "output_type": "display_data"
    },
    {
     "data": {
      "application/vnd.jupyter.widget-view+json": {
       "model_id": "4c0bb098d70345b9a85e1950975e1d24",
       "version_major": 2,
       "version_minor": 0
      },
      "text/plain": [
       "modules.json:   0%|          | 0.00/229 [00:00<?, ?B/s]"
      ]
     },
     "metadata": {},
     "output_type": "display_data"
    },
    {
     "data": {
      "text/plain": [
       "0     Aviation safety in CanadaFrom: Transport Canad...\n",
       "1     The Canadian ConstitutionA constitution provid...\n",
       "2     Causes of climate changeWhat is the most impor...\n",
       "3     COVID-19: Symptoms, treatment, what to do if y...\n",
       "4     Canada Pension Plan disability benefitsOvervie...\n",
       "5     CPP Retirement pensionOverviewThe Canada Pensi...\n",
       "6     Documents for Express EntryYou need certain do...\n",
       "7     EI regular benefitsHow much you could receiveF...\n",
       "8     How Express Entry worksExpress Entry is an onl...\n",
       "9     Funding - Culture, history and sportCOVID-19: ...\n",
       "10    Canada's health care systemLearn about Canada'...\n",
       "11    History of CanadaCanadian history does not beg...\n",
       "12    How the Courts are OrganizedPrevious Page Tabl...\n",
       "13    Our Security, Our RightsOn June 21, 2019, an A...\n",
       "14    Net-zero emissions by 2050The transition to a ...\n",
       "15    Origin of the name \"Canada\"Today, it seems imp...\n",
       "16    Personal income taxGet ready to do your taxesC...\n",
       "17    Starting a businessTable of contentsBefore you...\n",
       "18    Travel advice and advisories by destinationCOV...\n",
       "19    TravellersVisitors to CanadaHave proper identi...\n",
       "Name: metadata_text, dtype: object"
      ]
     },
     "execution_count": 3,
     "metadata": {},
     "output_type": "execute_result"
    }
   ],
   "source": [
    "data = [file.processor.__dict__ for file in directory._file_generator()]\n",
    "data = pd.json_normalize(data, max_level=1, sep='_')\n",
    "df = pd.DataFrame(data)\n",
    "\n",
    "if df.empty:\n",
    "    raise EmptySelection(f'Filtered selection of files is empty')\n",
    "elif not df.empty:\n",
    "    df = df.get(['size', 'extension', 'file_name',\n",
    "                'metadata_text', 'absolute_path'])\n",
    "    \n",
    "df['metadata_text'] = df['metadata_text'].str.strip()\n",
    "df['metadata_text'] = df['metadata_text'].str.replace('\\n', '')\n",
    "\n",
    "# Only keeping pdf/docx/txt files with sufficiently long 'text' metadata\n",
    "df = df[(df['extension'].isin(['.pdf', '.docx', '.txt'])) &\n",
    "        (df['metadata_text'].str.len() > 10) &\n",
    "        (df['metadata_text'].notnull())]\n",
    "df = df.reset_index(drop=True)\n",
    "file_names = df.file_name\n",
    "\n",
    "# Encoding\n",
    "encoder = SentenceTransformer(\"paraphrase-MiniLM-L3-v2\")\n",
    "vectors = encoder.encode(df['metadata_text'])\n",
    "\n",
    "df['metadata_text']"
   ]
  },
  {
   "cell_type": "code",
   "execution_count": 5,
   "metadata": {},
   "outputs": [
    {
     "data": {
      "text/plain": [
       "(20, 384)"
      ]
     },
     "execution_count": 5,
     "metadata": {},
     "output_type": "execute_result"
    }
   ],
   "source": [
    "vectors.shape"
   ]
  },
  {
   "attachments": {},
   "cell_type": "markdown",
   "metadata": {},
   "source": [
    "Do the encoding"
   ]
  },
  {
   "cell_type": "code",
   "execution_count": null,
   "metadata": {},
   "outputs": [],
   "source": []
  }
 ],
 "metadata": {
  "kernelspec": {
   "display_name": "Python 3",
   "language": "python",
   "name": "python3"
  },
  "language_info": {
   "codemirror_mode": {
    "name": "ipython",
    "version": 3
   },
   "file_extension": ".py",
   "mimetype": "text/x-python",
   "name": "python",
   "nbconvert_exporter": "python",
   "pygments_lexer": "ipython3",
   "version": "3.10.4"
  },
  "orig_nbformat": 4
 },
 "nbformat": 4,
 "nbformat_minor": 2
}
