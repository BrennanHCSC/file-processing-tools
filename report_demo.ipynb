{
 "cells": [
  {
   "attachments": {},
   "cell_type": "markdown",
   "metadata": {},
   "source": [
    "### Overview\n",
    "\n",
    "This JupyTer notebook demonstrates the extraction of metadata from all files of a given directory into a `.csv` file. It then performs analytics on the types of files contained in the directory"
   ]
  },
  {
   "cell_type": "code",
   "execution_count": 1,
   "metadata": {},
   "outputs": [],
   "source": [
    "from file_processing import Directory"
   ]
  },
  {
   "attachments": {},
   "cell_type": "markdown",
   "metadata": {},
   "source": [
    "#### Defining the directory to analyze\n",
    "\n",
    "Point to the directory of interest. For absolute paths, format using one of these formats: `r'C:\\...\\...'` or `'C:\\\\...\\\\'` or `'C:/.../...'` (dependent on OS)"
   ]
  },
  {
   "attachments": {},
   "cell_type": "markdown",
   "metadata": {},
   "source": [
    "When defining the directory to analyze, the following can be set:\n",
    "* `path` (str): Path to the directory\n",
    "* `use_ocr` (bool; False): Whether to use ocr on all ocr applicable files\n",
    "* `use_transcribers` (bool; False): Whether to use transcribers on all transcription applicable files"
   ]
  },
  {
   "cell_type": "code",
   "execution_count": 2,
   "metadata": {},
   "outputs": [],
   "source": [
    "directory = Directory('./tests/resources/',use_ocr=False, use_transcribers=False)"
   ]
  },
  {
   "attachments": {},
   "cell_type": "markdown",
   "metadata": {},
   "source": [
    "#### Exploring the CSV report\n",
    "\n",
    "`directory.generate_report()` accepts the following:\n",
    "\n",
    "* `report_file` (str): Path to the output csv file\n",
    "* `include_text` (bool; False): Whether to include text data from the files in the report\n",
    "* `filters` (dict; None): Inclusion/exclusion criteria\n",
    "* `keywords` (list; None): A list of keywords to count in the 'text' field of the metadata\n",
    "* `check_title_keywords` (bool; False): Whether to scan file names for keywords\n",
    "* `migrate_filters` (dict; None): Adds a boolean column with 1 if the file satisfies the input criteria, else 0\n",
    "* `open_files` (bool; True): Whether to open the files to extract file-specific metadata\n",
    "* `split_metadata` (bool; False): Whether to split the file-specific metadata object such that each field has its own column\n",
    "* `char_limit` (int; 3000): The cut-off length for each metadata field\n",
    "\n",
    "A sample filter parameter is shown below. The `exclude_str` and `include_str` options will check the file path for the given strings and exclude or include accordingly. These options can also be used to target specific file names in addition to directory names.\n",
    "\n",
    "```py\n",
    "filter = {\n",
    "    'exclude_str': ['.venv', '.pytest_cache', '.vscode', '__pycache__']\n",
    "    'include_str': ['file_processing', 'tests', '__init.py__'],\n",
    "    'extensions': ['.csv', '.docx', '.pptx', '.xlsx', '.pdf'],\n",
    "    'exclude_extensions': ['.tmp', '', '.py'],\n",
    "    'min_size': 10000,\n",
    "    'max_size': 50000\n",
    "}\n",
    "```"
   ]
  },
  {
   "cell_type": "code",
   "execution_count": 3,
   "metadata": {},
   "outputs": [
    {
     "name": "stderr",
     "output_type": "stream",
     "text": [
      "Processing batches: 0 batches completed [00:00, ? batches completed/s]ERROR:root:Error processing ./tests/resources/directory_test_files_corrupted/government_of_canada_wikipedia_corrupted.txt: FileProcessingFailedError\n",
      "ERROR:root:Error processing ./tests/resources/test_files/MapCanada_corrupted.jpg: FileProcessingFailedError\n",
      "WARNING:pypdf._reader:invalid pdf header: b'U\\x85[\\x9c\\xc0'\n",
      "WARNING:pypdf._reader:EOF marker not found\n",
      "ERROR:root:Error processing ./tests/resources/test_files/SampleReportScreenShot_corrupted.pdf: FileProcessingFailedError\n",
      "ERROR:root:Error processing ./tests/resources/test_files/Health - Canada.ca_corrupted.html: FileProcessingFailedError\n",
      "ERROR:root:Error processing ./tests/resources/test_files/coffee_corrupted.json: FileCorruptionError\n",
      "ERROR:root:Error processing ./tests/resources/test_files/callbacks_corrupted.py: FileProcessingFailedError\n",
      "ERROR:root:Error processing ./tests/resources/test_files/sample_speech_corrupted.mp3: FileProcessingFailedError\n",
      "ERROR:root:Error processing ./tests/resources/test_files/Test_for_RTF_corrupted.rtf: FileProcessingFailedError\n",
      "ERROR:root:Error processing ./tests/resources/test_files/MapCanada_corrupted.png: FileProcessingFailedError\n",
      "ERROR:root:Error processing ./tests/resources/test_files/MapleLeaf_corrupted.heif: FileProcessingFailedError\n",
      "ERROR:root:Error processing ./tests/resources/test_files/MSEdgeIcon_corrupted.gif: FileProcessingFailedError\n",
      "ERROR:root:Error processing ./tests/resources/test_files/Sample_corrupted.xml: FileProcessingFailedError\n",
      "ERROR:root:Error processing ./tests/resources/test_files/MSWordIcon_corrupted.tiff: FileProcessingFailedError\n",
      "ERROR:root:Error processing ./tests/resources/test_files/Test_excel_file_corrupted.xlsx: FileCorruptionError\n",
      "ERROR:root:Error processing ./tests/resources/test_files/2021_Census_English_corrupted.csv: FileProcessingFailedError\n",
      "ERROR:root:Error processing ./tests/resources/test_files/HealthCanadaOverviewFromWikipedia_corrupted.pptx: FileCorruptionError\n",
      "ERROR:root:Error processing ./tests/resources/test_files/CanadaLogo_corrupted.tif: FileProcessingFailedError\n",
      "ERROR:extract_msg.msg_classes.msg:not an OLE2 structured storage file\n",
      "ERROR:root:Error processing ./tests/resources/test_files/Test Email_corrupted.msg: FileProcessingFailedError\n",
      "ERROR:root:Error processing ./tests/resources/test_files/MapleLeaf_corrupted.heic: FileProcessingFailedError\n",
      "ERROR:root:Error processing ./tests/resources/test_files/SampleReport_corrupted.zip: FileProcessingFailedError\n",
      "ERROR:root:Error processing ./tests/resources/test_files/HealthCanadaOverviewFromWikipedia_corrupted.docx: FileCorruptionError\n",
      "ERROR:root:Error processing ./tests/resources/test_files/government_of_canada_wikipedia_corrupted.txt: FileProcessingFailedError\n",
      "Processing files: 124 files completed [00:37,  3.29 files completed/s]ted]\n",
      "Processing batches: 1 batches completed [00:37, 37.66s/ batches completed]\n"
     ]
    }
   ],
   "source": [
    "directory.generate_report(\n",
    "    report_file='./docs/sample_reports/report.csv',\n",
    "    split_metadata=True,\n",
    "    filters={'exclude_str': ['.venv', '.pytest_cache', '.vscode', '__pycache__', '.git']},\n",
    "    migrate_filters={'extensions': ['.csv', '.docx', '.pdf', '.pptx']},\n",
    "    include_text=True,\n",
    "    keywords=['Health', 'Canada', 'Classified', 'Protected']\n",
    ")"
   ]
  },
  {
   "attachments": {},
   "cell_type": "markdown",
   "metadata": {},
   "source": [
    "#### Aggregating data by file type"
   ]
  },
  {
   "cell_type": "code",
   "execution_count": 4,
   "metadata": {},
   "outputs": [
    {
     "name": "stderr",
     "output_type": "stream",
     "text": [
      "Processing files: 124 files completed [00:00, 8959.87 files completed/s]\n"
     ]
    },
    {
     "data": {
      "text/html": [
       "<div>\n",
       "<style scoped>\n",
       "    .dataframe tbody tr th:only-of-type {\n",
       "        vertical-align: middle;\n",
       "    }\n",
       "\n",
       "    .dataframe tbody tr th {\n",
       "        vertical-align: top;\n",
       "    }\n",
       "\n",
       "    .dataframe thead th {\n",
       "        text-align: right;\n",
       "    }\n",
       "</style>\n",
       "<table border=\"1\" class=\"dataframe\">\n",
       "  <thead>\n",
       "    <tr style=\"text-align: right;\">\n",
       "      <th></th>\n",
       "      <th>size (MB)</th>\n",
       "      <th>count</th>\n",
       "    </tr>\n",
       "  </thead>\n",
       "  <tbody>\n",
       "    <tr>\n",
       "      <th>.abcd</th>\n",
       "      <td>0.000020</td>\n",
       "      <td>1</td>\n",
       "    </tr>\n",
       "    <tr>\n",
       "      <th>.aiff</th>\n",
       "      <td>0.101814</td>\n",
       "      <td>1</td>\n",
       "    </tr>\n",
       "    <tr>\n",
       "      <th>.csv</th>\n",
       "      <td>17.483252</td>\n",
       "      <td>4</td>\n",
       "    </tr>\n",
       "    <tr>\n",
       "      <th>.docx</th>\n",
       "      <td>0.097953</td>\n",
       "      <td>6</td>\n",
       "    </tr>\n",
       "    <tr>\n",
       "      <th>.flac</th>\n",
       "      <td>0.211733</td>\n",
       "      <td>1</td>\n",
       "    </tr>\n",
       "    <tr>\n",
       "      <th>.gif</th>\n",
       "      <td>4.332710</td>\n",
       "      <td>6</td>\n",
       "    </tr>\n",
       "    <tr>\n",
       "      <th>.heic</th>\n",
       "      <td>0.224590</td>\n",
       "      <td>2</td>\n",
       "    </tr>\n",
       "    <tr>\n",
       "      <th>.heif</th>\n",
       "      <td>0.224590</td>\n",
       "      <td>2</td>\n",
       "    </tr>\n",
       "    <tr>\n",
       "      <th>.html</th>\n",
       "      <td>0.496281</td>\n",
       "      <td>3</td>\n",
       "    </tr>\n",
       "    <tr>\n",
       "      <th>.jpeg</th>\n",
       "      <td>0.008800</td>\n",
       "      <td>1</td>\n",
       "    </tr>\n",
       "    <tr>\n",
       "      <th>.jpg</th>\n",
       "      <td>3.949606</td>\n",
       "      <td>5</td>\n",
       "    </tr>\n",
       "    <tr>\n",
       "      <th>.json</th>\n",
       "      <td>2.098283</td>\n",
       "      <td>3</td>\n",
       "    </tr>\n",
       "    <tr>\n",
       "      <th>.mp3</th>\n",
       "      <td>0.045261</td>\n",
       "      <td>2</td>\n",
       "    </tr>\n",
       "    <tr>\n",
       "      <th>.mp4</th>\n",
       "      <td>0.110016</td>\n",
       "      <td>1</td>\n",
       "    </tr>\n",
       "    <tr>\n",
       "      <th>.msg</th>\n",
       "      <td>0.563200</td>\n",
       "      <td>4</td>\n",
       "    </tr>\n",
       "    <tr>\n",
       "      <th>.ogg</th>\n",
       "      <td>0.065814</td>\n",
       "      <td>1</td>\n",
       "    </tr>\n",
       "    <tr>\n",
       "      <th>.pdf</th>\n",
       "      <td>1.627953</td>\n",
       "      <td>11</td>\n",
       "    </tr>\n",
       "    <tr>\n",
       "      <th>.png</th>\n",
       "      <td>17.004074</td>\n",
       "      <td>7</td>\n",
       "    </tr>\n",
       "    <tr>\n",
       "      <th>.pptx</th>\n",
       "      <td>100.475886</td>\n",
       "      <td>8</td>\n",
       "    </tr>\n",
       "    <tr>\n",
       "      <th>.py</th>\n",
       "      <td>0.321661</td>\n",
       "      <td>3</td>\n",
       "    </tr>\n",
       "    <tr>\n",
       "      <th>.rtf</th>\n",
       "      <td>0.308322</td>\n",
       "      <td>3</td>\n",
       "    </tr>\n",
       "    <tr>\n",
       "      <th>.tif</th>\n",
       "      <td>6.113650</td>\n",
       "      <td>5</td>\n",
       "    </tr>\n",
       "    <tr>\n",
       "      <th>.tiff</th>\n",
       "      <td>0.093494</td>\n",
       "      <td>4</td>\n",
       "    </tr>\n",
       "    <tr>\n",
       "      <th>.txt</th>\n",
       "      <td>0.327576</td>\n",
       "      <td>25</td>\n",
       "    </tr>\n",
       "    <tr>\n",
       "      <th>.wav</th>\n",
       "      <td>0.477484</td>\n",
       "      <td>1</td>\n",
       "    </tr>\n",
       "    <tr>\n",
       "      <th>.xlsx</th>\n",
       "      <td>0.177368</td>\n",
       "      <td>6</td>\n",
       "    </tr>\n",
       "    <tr>\n",
       "      <th>.xml</th>\n",
       "      <td>0.013287</td>\n",
       "      <td>3</td>\n",
       "    </tr>\n",
       "    <tr>\n",
       "      <th>.xyz</th>\n",
       "      <td>0.000017</td>\n",
       "      <td>1</td>\n",
       "    </tr>\n",
       "    <tr>\n",
       "      <th>.zip</th>\n",
       "      <td>0.192784</td>\n",
       "      <td>4</td>\n",
       "    </tr>\n",
       "  </tbody>\n",
       "</table>\n",
       "</div>"
      ],
      "text/plain": [
       "        size (MB)  count\n",
       ".abcd    0.000020      1\n",
       ".aiff    0.101814      1\n",
       ".csv    17.483252      4\n",
       ".docx    0.097953      6\n",
       ".flac    0.211733      1\n",
       ".gif     4.332710      6\n",
       ".heic    0.224590      2\n",
       ".heif    0.224590      2\n",
       ".html    0.496281      3\n",
       ".jpeg    0.008800      1\n",
       ".jpg     3.949606      5\n",
       ".json    2.098283      3\n",
       ".mp3     0.045261      2\n",
       ".mp4     0.110016      1\n",
       ".msg     0.563200      4\n",
       ".ogg     0.065814      1\n",
       ".pdf     1.627953     11\n",
       ".png    17.004074      7\n",
       ".pptx  100.475886      8\n",
       ".py      0.321661      3\n",
       ".rtf     0.308322      3\n",
       ".tif     6.113650      5\n",
       ".tiff    0.093494      4\n",
       ".txt     0.327576     25\n",
       ".wav     0.477484      1\n",
       ".xlsx    0.177368      6\n",
       ".xml     0.013287      3\n",
       ".xyz     0.000017      1\n",
       ".zip     0.192784      4"
      ]
     },
     "execution_count": 4,
     "metadata": {},
     "output_type": "execute_result"
    }
   ],
   "source": [
    "import pandas as pd\n",
    "\n",
    "analytics = directory.generate_analytics(\n",
    "    report_file='./docs/sample_reports/analytics.csv', \n",
    "    filters={'exclude_str': ['.venv', '.pytest_cache', '.vscode', '__pycache__', '.git']}\n",
    ")\n",
    "df = pd.DataFrame.from_dict((analytics))\n",
    "df"
   ]
  },
  {
   "attachments": {},
   "cell_type": "markdown",
   "metadata": {},
   "source": [
    "#### Visualizing the filtered data"
   ]
  },
  {
   "cell_type": "code",
   "execution_count": 5,
   "metadata": {},
   "outputs": [
    {
     "name": "stdout",
     "output_type": "stream",
     "text": [
      "Requirement already satisfied: matplotlib in ./.venv/lib/python3.11/site-packages (3.8.4)\n",
      "Requirement already satisfied: contourpy>=1.0.1 in ./.venv/lib/python3.11/site-packages (from matplotlib) (1.2.1)\n",
      "Requirement already satisfied: cycler>=0.10 in ./.venv/lib/python3.11/site-packages (from matplotlib) (0.12.1)\n",
      "Requirement already satisfied: fonttools>=4.22.0 in ./.venv/lib/python3.11/site-packages (from matplotlib) (4.51.0)\n",
      "Requirement already satisfied: kiwisolver>=1.3.1 in ./.venv/lib/python3.11/site-packages (from matplotlib) (1.4.5)\n",
      "Requirement already satisfied: numpy>=1.21 in ./.venv/lib/python3.11/site-packages (from matplotlib) (1.26.4)\n",
      "Requirement already satisfied: packaging>=20.0 in ./.venv/lib/python3.11/site-packages (from matplotlib) (24.0)\n",
      "Requirement already satisfied: pillow>=8 in ./.venv/lib/python3.11/site-packages (from matplotlib) (10.3.0)\n",
      "Requirement already satisfied: pyparsing>=2.3.1 in ./.venv/lib/python3.11/site-packages (from matplotlib) (2.4.7)\n",
      "Requirement already satisfied: python-dateutil>=2.7 in ./.venv/lib/python3.11/site-packages (from matplotlib) (2.9.0.post0)\n",
      "Requirement already satisfied: six>=1.5 in ./.venv/lib/python3.11/site-packages (from python-dateutil>=2.7->matplotlib) (1.16.0)\n",
      "Note: you may need to restart the kernel to use updated packages.\n"
     ]
    }
   ],
   "source": [
    "%pip install matplotlib"
   ]
  },
  {
   "cell_type": "code",
   "execution_count": 6,
   "metadata": {},
   "outputs": [
    {
     "data": {
      "text/plain": [
       "Text(0.5, 1.0, 'File types by Count and Size (mb)')"
      ]
     },
     "execution_count": 6,
     "metadata": {},
     "output_type": "execute_result"
    },
    {
     "data": {
      "image/png": "[encoded data removed]",
      "text/plain": [
       "<Figure size 1200x500 with 2 Axes>"
      ]
     },
     "metadata": {},
     "output_type": "display_data"
    }
   ],
   "source": [
    "import matplotlib.pyplot as plt\n",
    "\n",
    "fig = plt.figure(figsize=(12, 5))\n",
    "ax = fig.add_subplot(111)\n",
    "ax2 = ax.twinx()\n",
    "ax2.yaxis.get_major_locator().set_params(integer=True)\n",
    "\n",
    "width = 0.4\n",
    "\n",
    "(df['size (MB)']).plot(kind='bar', color='#0072b2', ax=ax, width=width, position=1, label='Size (mb)')\n",
    "df['count'].plot(kind='bar', color='#88ccee', ax=ax2, width=width, position=0, label='Count')\n",
    "\n",
    "ax.set_ylabel('Size (mb)')\n",
    "ax2.set_ylabel('Count')\n",
    "ax.set_xlabel('File type')\n",
    "\n",
    "plt.legend()\n",
    "plt.title('File types by Count and Size (mb)')\n"
   ]
  },
  {
   "cell_type": "code",
   "execution_count": 7,
   "metadata": {},
   "outputs": [
    {
     "data": {
      "image/png": "[encoded data removed]",
      "text/plain": [
       "<Figure size 640x480 with 1 Axes>"
      ]
     },
     "metadata": {},
     "output_type": "display_data"
    }
   ],
   "source": [
    "import numpy as np\n",
    "\n",
    "labels = df.index\n",
    "sizes = df['size (MB)']\n",
    "\n",
    "cmap = plt.get_cmap(\"Pastel2\")\n",
    "\n",
    "plt.title('Pie chart of file types by size')\n",
    "plt.pie(sizes, labels=labels, colors=cmap(np.arange(3)*4))\n",
    "plt.show()"
   ]
  }
 ],
 "metadata": {
  "kernelspec": {
   "display_name": ".venv",
   "language": "python",
   "name": "python3"
  },
  "language_info": {
   "codemirror_mode": {
    "name": "ipython",
    "version": 3
   },
   "file_extension": ".py",
   "mimetype": "text/x-python",
   "name": "python",
   "nbconvert_exporter": "python",
   "pygments_lexer": "ipython3",
   "version": "3.11.6"
  },
  "orig_nbformat": 4
 },
 "nbformat": 4,
 "nbformat_minor": 2
}
