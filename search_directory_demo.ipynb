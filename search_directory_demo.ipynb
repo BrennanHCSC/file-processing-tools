{
 "cells": [
  {
   "attachments": {},
   "cell_type": "markdown",
   "metadata": {},
   "source": [
    "# Search Directory Tutorial\n",
    "\n",
    "This notebook demonstrates how to use the `SearchDirectory` class to create embeddings and query a set of documents using a FAISS index."
   ]
  },
  {
   "cell_type": "code",
   "execution_count": null,
   "metadata": {},
   "outputs": [],
   "source": [
    "from file_processing import SearchDirectory"
   ]
  }
 ],
 "metadata": {
  "language_info": {
   "name": "python"
  },
  "orig_nbformat": 4
 },
 "nbformat": 4,
 "nbformat_minor": 2
}
