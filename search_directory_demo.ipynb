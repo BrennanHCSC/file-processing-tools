{
 "cells": [
  {
   "attachments": {},
   "cell_type": "markdown",
   "metadata": {},
   "source": [
    "# Search Directory Tutorial\n",
    "\n",
    "This notebook demonstrates how to use the `SearchDirectory` class to create embeddings and query a set of documents using a FAISS index.\n",
    "\n",
    "The process can be broken down into the following steps:\n",
    "1. Get text information from documents in a directory\n",
    "2. Chunk the text data\n",
    "3. Load an embedding model\n",
    "4. Embed the chunked text\n",
    "5. Create a FAISS index\n",
    "6. Use a query to search the FAISS index"
   ]
  },
  {
   "cell_type": "code",
   "execution_count": 1,
   "metadata": {},
   "outputs": [],
   "source": [
    "import os\n",
    "import shutil\n",
    "from file_processing import SearchDirectory"
   ]
  },
  {
   "attachments": {},
   "cell_type": "markdown",
   "metadata": {},
   "source": [
    "### 1. Get text information from documents in a directory\n",
    "\n",
    "This step can be skipped if you already have a CSV containing the document names/file paths and the text data."
   ]
  },
  {
   "cell_type": "code",
   "execution_count": 2,
   "metadata": {},
   "outputs": [],
   "source": [
    "# specify a path to save the chunking, embedding, and faiss index to\n",
    "search_dir_path = \"docs/sample_search_docs\"\n",
    "\n",
    "# create a SearchDirectory object\n",
    "search = SearchDirectory(search_dir_path)"
   ]
  },
  {
   "cell_type": "code",
   "execution_count": 3,
   "metadata": {},
   "outputs": [
    {
     "name": "stderr",
     "output_type": "stream",
     "text": [
      "Processing files: 20 files completed [00:00, 70.91 files completed/s]\n",
      "Processing batches: 1 batches completed [00:00,  3.54 batches completed/s]\n"
     ]
    }
   ],
   "source": [
    "# specify the path with the files to extract text from\n",
    "resource_path = \"tests/resources/similarity_test_files\"\n",
    "\n",
    "# generate a CSV report that contains text information\n",
    "search.report_from_directory(resource_path)"
   ]
  },
  {
   "attachments": {},
   "cell_type": "markdown",
   "metadata": {},
   "source": [
    "### 2. Chunk the text data from the report\n",
    "\n",
    "You can either pass no arguments and it will use the `report.csv` generated in the previous step or you can specify the file path of another CSV file containing text data along with the column names of the file path and text content."
   ]
  },
  {
   "cell_type": "code",
   "execution_count": 4,
   "metadata": {},
   "outputs": [
    {
     "name": "stdout",
     "output_type": "stream",
     "text": [
      "Total rows (excluding header): 20\n"
     ]
    },
    {
     "name": "stderr",
     "output_type": "stream",
     "text": [
      "Processing rows: 100%|██████████| 20/20 [00:00<00:00, 6652.35it/s]"
     ]
    },
    {
     "name": "stdout",
     "output_type": "stream",
     "text": [
      "Chunking complete and saved to 'data_chunked.csv'.\n"
     ]
    },
    {
     "name": "stderr",
     "output_type": "stream",
     "text": [
      "\n"
     ]
    }
   ],
   "source": [
    "# generate chunks from the report\n",
    "search.chunk_text()"
   ]
  },
  {
   "cell_type": "code",
   "execution_count": null,
   "metadata": {},
   "outputs": [],
   "source": [
    "# generate chunks from a CSV file\n",
    "search.chunk_text(\"tests/resources/document_search_test_files/report_modified.csv\",\n",
    "                  \"path\",\n",
    "                  \"content\")"
   ]
  },
  {
   "attachments": {},
   "cell_type": "markdown",
   "metadata": {},
   "source": [
    "### 3. Specify the embedding model to use"
   ]
  },
  {
   "cell_type": "code",
   "execution_count": 5,
   "metadata": {},
   "outputs": [],
   "source": [
    "search.load_embedding_model(\"paraphrase-MiniLM-L3-v2\")"
   ]
  },
  {
   "attachments": {},
   "cell_type": "markdown",
   "metadata": {},
   "source": [
    "### 4. Perform embeddings on the chunked text data\n",
    "\n",
    "By default, this will split the task into batches that are saved to store progress during long computations. This is demonstrated by specifying the `batch_size` to be 20 chunks. The embeddings can also be broken down further by specifying the start and end chunks. The function is also designed to not recompute any chunks that have already been saved.\n",
    "\n",
    "Once all the chunks are computed and saved then they are combined and saved to `embeddings.npy`"
   ]
  },
  {
   "cell_type": "code",
   "execution_count": 6,
   "metadata": {},
   "outputs": [
    {
     "name": "stdout",
     "output_type": "stream",
     "text": [
      "Embeddings combined and saved to embeddings.npy\n"
     ]
    }
   ],
   "source": [
    "search.embed_text(row_start=0, row_end=-1, batch_size=20)"
   ]
  },
  {
   "attachments": {},
   "cell_type": "markdown",
   "metadata": {},
   "source": [
    "### 5. Create the FAISS index\n",
    "\n",
    "Multiple different types of FAISS indexes can be created with different hyperparameters. The functionality of using and creating FAISS indexes is demonstrated in more depth in `faiss_demo.ipynb`. This class uses the same methods as that demo but will always save the FAISS index after creating them."
   ]
  },
  {
   "cell_type": "code",
   "execution_count": 7,
   "metadata": {},
   "outputs": [],
   "source": [
    "search.create_flat_index()"
   ]
  },
  {
   "attachments": {},
   "cell_type": "markdown",
   "metadata": {},
   "source": [
    "### 6. Query the FAISS index and find the most similar documents\n",
    "\n",
    "Specify a query and the number of similar chunks to return (as well as any hyperparameters depending on the FAISS index used) and this will return a data frame with the most similar chunks (accoring to the embedding and FAISS models used)."
   ]
  },
  {
   "cell_type": "code",
   "execution_count": 8,
   "metadata": {},
   "outputs": [
    {
     "data": {
      "text/html": [
       "<div>\n",
       "<style scoped>\n",
       "    .dataframe tbody tr th:only-of-type {\n",
       "        vertical-align: middle;\n",
       "    }\n",
       "\n",
       "    .dataframe tbody tr th {\n",
       "        vertical-align: top;\n",
       "    }\n",
       "\n",
       "    .dataframe thead th {\n",
       "        text-align: right;\n",
       "    }\n",
       "</style>\n",
       "<table border=\"1\" class=\"dataframe\">\n",
       "  <thead>\n",
       "    <tr style=\"text-align: right;\">\n",
       "      <th></th>\n",
       "      <th>file_path</th>\n",
       "      <th>content</th>\n",
       "    </tr>\n",
       "  </thead>\n",
       "  <tbody>\n",
       "    <tr>\n",
       "      <th>10</th>\n",
       "      <td>tests\\resources\\similarity_test_files\\climate_...</td>\n",
       "      <td>The earth's climate is naturally variable on a...</td>\n",
       "    </tr>\n",
       "    <tr>\n",
       "      <th>43</th>\n",
       "      <td>tests\\resources\\similarity_test_files\\history_...</td>\n",
       "      <td>The Huron-Wendat of the Great Lakes Region, li...</td>\n",
       "    </tr>\n",
       "    <tr>\n",
       "      <th>56</th>\n",
       "      <td>tests\\resources\\similarity_test_files\\origin_o...</td>\n",
       "      <td>Origin of the name \"Canada\"\\nToday, it seems i...</td>\n",
       "    </tr>\n",
       "  </tbody>\n",
       "</table>\n",
       "</div>"
      ],
      "text/plain": [
       "                                            file_path  \\\n",
       "10  tests\\resources\\similarity_test_files\\climate_...   \n",
       "43  tests\\resources\\similarity_test_files\\history_...   \n",
       "56  tests\\resources\\similarity_test_files\\origin_o...   \n",
       "\n",
       "                                              content  \n",
       "10  The earth's climate is naturally variable on a...  \n",
       "43  The Huron-Wendat of the Great Lakes Region, li...  \n",
       "56  Origin of the name \"Canada\"\\nToday, it seems i...  "
      ]
     },
     "execution_count": 8,
     "metadata": {},
     "output_type": "execute_result"
    }
   ],
   "source": [
    "query = \"What is the meaning of life, the universe, and everything?\"\n",
    "search.search(query, k=3)"
   ]
  },
  {
   "attachments": {},
   "cell_type": "markdown",
   "metadata": {},
   "source": [
    "Clean up created files"
   ]
  },
  {
   "cell_type": "code",
   "execution_count": 9,
   "metadata": {},
   "outputs": [],
   "source": [
    "os.remove(\"docs/sample_search_docs/report.csv\")\n",
    "os.remove(\"docs/sample_search_docs/data_chunked.csv\")\n",
    "os.remove(\"docs/sample_search_docs/setup_data.json\")\n",
    "shutil.rmtree(\"docs/sample_search_docs/embedding_batches\")\n",
    "os.remove(\"docs/sample_search_docs/embeddings.npy\")\n",
    "os.remove(\"docs/sample_search_docs/index.faiss\")"
   ]
  }
 ],
 "metadata": {
  "kernelspec": {
   "display_name": ".venv",
   "language": "python",
   "name": "python3"
  },
  "language_info": {
   "codemirror_mode": {
    "name": "ipython",
    "version": 3
   },
   "file_extension": ".py",
   "mimetype": "text/x-python",
   "name": "python",
   "nbconvert_exporter": "python",
   "pygments_lexer": "ipython3",
   "version": "3.10.4"
  },
  "orig_nbformat": 4
 },
 "nbformat": 4,
 "nbformat_minor": 2
}
