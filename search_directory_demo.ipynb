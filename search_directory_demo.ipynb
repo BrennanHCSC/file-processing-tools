{
 "cells": [
  {
   "attachments": {},
   "cell_type": "markdown",
   "metadata": {},
   "source": [
    "# Search Directory Tutorial\n",
    "\n",
    "This notebook demonstrates how to use the `SearchDirectory` class to create embeddings and query a set of documents using a FAISS index."
   ]
  },
  {
   "cell_type": "code",
   "execution_count": 18,
   "metadata": {},
   "outputs": [],
   "source": [
    "import os\n",
    "import shutil\n",
    "from file_processing import SearchDirectory"
   ]
  },
  {
   "attachments": {},
   "cell_type": "markdown",
   "metadata": {},
   "source": [
    "1. Get text information from documents in a directory"
   ]
  },
  {
   "cell_type": "code",
   "execution_count": 11,
   "metadata": {},
   "outputs": [
    {
     "name": "stderr",
     "output_type": "stream",
     "text": [
      "Processing files: 20 files completed [00:00, 73.99 files completed/s]\n",
      "Processing batches: 1 batches completed [00:00,  3.70 batches completed/s]\n"
     ]
    }
   ],
   "source": [
    "# specify a path to save the chunking, embedding, and faiss index to\n",
    "search_dir_path = \"docs/sample_search_docs\"\n",
    "\n",
    "# create a SearchDirectory object\n",
    "search = SearchDirectory(search_dir_path)\n",
    "\n",
    "# specify the path with the files to extract text from\n",
    "resource_path = \"tests/resources/similarity_test_files\"\n",
    "\n",
    "# generate a CSV report that contains text information\n",
    "search.report_from_directory(resource_path)"
   ]
  },
  {
   "attachments": {},
   "cell_type": "markdown",
   "metadata": {},
   "source": [
    "2. Chunk the text data from the report"
   ]
  },
  {
   "cell_type": "code",
   "execution_count": 12,
   "metadata": {},
   "outputs": [
    {
     "name": "stdout",
     "output_type": "stream",
     "text": [
      "Total rows (excluding header): 20\n"
     ]
    },
    {
     "name": "stderr",
     "output_type": "stream",
     "text": [
      "Processing rows: 100%|██████████| 20/20 [00:00<00:00, 19972.88it/s]"
     ]
    },
    {
     "name": "stdout",
     "output_type": "stream",
     "text": [
      "Chunking complete and saved to 'data_chunked.csv'.\n"
     ]
    },
    {
     "name": "stderr",
     "output_type": "stream",
     "text": [
      "\n"
     ]
    }
   ],
   "source": [
    "search.chunk_text()"
   ]
  },
  {
   "attachments": {},
   "cell_type": "markdown",
   "metadata": {},
   "source": [
    "3. Specify the embedding model to use"
   ]
  },
  {
   "cell_type": "code",
   "execution_count": 13,
   "metadata": {},
   "outputs": [],
   "source": [
    "search.load_embedding_model(\"paraphrase-MiniLM-L3-v2\")"
   ]
  },
  {
   "attachments": {},
   "cell_type": "markdown",
   "metadata": {},
   "source": [
    "4. Perform embeddings on the chunked text data"
   ]
  },
  {
   "cell_type": "code",
   "execution_count": 14,
   "metadata": {},
   "outputs": [
    {
     "name": "stderr",
     "output_type": "stream",
     "text": [
      "100%|██████████| 20/20 [00:00<00:00, 48.06it/s]\n"
     ]
    },
    {
     "name": "stdout",
     "output_type": "stream",
     "text": [
      "Embedding batch complete and saved to embeddings (0-20).npy').\n"
     ]
    },
    {
     "name": "stderr",
     "output_type": "stream",
     "text": [
      "100%|██████████| 20/20 [00:00<00:00, 44.12it/s]\n"
     ]
    },
    {
     "name": "stdout",
     "output_type": "stream",
     "text": [
      "Embedding batch complete and saved to embeddings (20-40).npy').\n"
     ]
    },
    {
     "name": "stderr",
     "output_type": "stream",
     "text": [
      "100%|██████████| 20/20 [00:00<00:00, 50.26it/s]\n"
     ]
    },
    {
     "name": "stdout",
     "output_type": "stream",
     "text": [
      "Embedding batch complete and saved to embeddings (40-60).npy').\n"
     ]
    },
    {
     "name": "stderr",
     "output_type": "stream",
     "text": [
      "100%|██████████| 16/16 [00:00<00:00, 49.74it/s]"
     ]
    },
    {
     "name": "stdout",
     "output_type": "stream",
     "text": [
      "Embedding batch complete and saved to embeddings (60-76).npy').\n",
      "Embeddings combined and saved to embeddings.npy\n"
     ]
    },
    {
     "name": "stderr",
     "output_type": "stream",
     "text": [
      "\n"
     ]
    }
   ],
   "source": [
    "search.embed_text(row_start=0, row_end=-1, batch_size=20)"
   ]
  },
  {
   "attachments": {},
   "cell_type": "markdown",
   "metadata": {},
   "source": [
    "5. Create the FAISS index"
   ]
  },
  {
   "cell_type": "code",
   "execution_count": 15,
   "metadata": {},
   "outputs": [],
   "source": [
    "search.create_flat_index()"
   ]
  },
  {
   "attachments": {},
   "cell_type": "markdown",
   "metadata": {},
   "source": [
    "6. Query the FAISS index and find the most similar documents"
   ]
  },
  {
   "cell_type": "code",
   "execution_count": 16,
   "metadata": {},
   "outputs": [
    {
     "data": {
      "text/html": [
       "<div>\n",
       "<style scoped>\n",
       "    .dataframe tbody tr th:only-of-type {\n",
       "        vertical-align: middle;\n",
       "    }\n",
       "\n",
       "    .dataframe tbody tr th {\n",
       "        vertical-align: top;\n",
       "    }\n",
       "\n",
       "    .dataframe thead th {\n",
       "        text-align: right;\n",
       "    }\n",
       "</style>\n",
       "<table border=\"1\" class=\"dataframe\">\n",
       "  <thead>\n",
       "    <tr style=\"text-align: right;\">\n",
       "      <th></th>\n",
       "      <th>file_path</th>\n",
       "      <th>content</th>\n",
       "    </tr>\n",
       "  </thead>\n",
       "  <tbody>\n",
       "    <tr>\n",
       "      <th>10</th>\n",
       "      <td>tests\\resources\\similarity_test_files\\climate_...</td>\n",
       "      <td>The earth's climate is naturally variable on a...</td>\n",
       "    </tr>\n",
       "    <tr>\n",
       "      <th>43</th>\n",
       "      <td>tests\\resources\\similarity_test_files\\history_...</td>\n",
       "      <td>The Huron-Wendat of the Great Lakes Region, li...</td>\n",
       "    </tr>\n",
       "    <tr>\n",
       "      <th>56</th>\n",
       "      <td>tests\\resources\\similarity_test_files\\origin_o...</td>\n",
       "      <td>Origin of the name \"Canada\"\\nToday, it seems i...</td>\n",
       "    </tr>\n",
       "  </tbody>\n",
       "</table>\n",
       "</div>"
      ],
      "text/plain": [
       "                                            file_path  \\\n",
       "10  tests\\resources\\similarity_test_files\\climate_...   \n",
       "43  tests\\resources\\similarity_test_files\\history_...   \n",
       "56  tests\\resources\\similarity_test_files\\origin_o...   \n",
       "\n",
       "                                              content  \n",
       "10  The earth's climate is naturally variable on a...  \n",
       "43  The Huron-Wendat of the Great Lakes Region, li...  \n",
       "56  Origin of the name \"Canada\"\\nToday, it seems i...  "
      ]
     },
     "execution_count": 16,
     "metadata": {},
     "output_type": "execute_result"
    }
   ],
   "source": [
    "query = \"What is the meaning of life, the universe, and everything?\"\n",
    "search.search(query, k=3)"
   ]
  },
  {
   "attachments": {},
   "cell_type": "markdown",
   "metadata": {},
   "source": [
    "Clean up created files"
   ]
  },
  {
   "cell_type": "code",
   "execution_count": 19,
   "metadata": {},
   "outputs": [],
   "source": [
    "os.remove(\"docs/sample_search_docs/report.csv\")\n",
    "os.remove(\"docs/sample_search_docs/data_chunked.csv\")\n",
    "os.remove(\"docs/sample_search_docs/setup_data.json\")\n",
    "shutil.rmtree(\"docs/sample_search_docs/embedding_batches\")\n",
    "os.remove(\"docs/sample_search_docs/embeddings.npy\")\n",
    "os.remove(\"docs/sample_search_docs/index.faiss\")"
   ]
  }
 ],
 "metadata": {
  "kernelspec": {
   "display_name": ".venv",
   "language": "python",
   "name": "python3"
  },
  "language_info": {
   "codemirror_mode": {
    "name": "ipython",
    "version": 3
   },
   "file_extension": ".py",
   "mimetype": "text/x-python",
   "name": "python",
   "nbconvert_exporter": "python",
   "pygments_lexer": "ipython3",
   "version": "3.10.4"
  },
  "orig_nbformat": 4
 },
 "nbformat": 4,
 "nbformat_minor": 2
}
