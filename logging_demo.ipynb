{
 "cells": [
  {
   "attachments": {},
   "cell_type": "markdown",
   "metadata": {},
   "source": [
    "### Logging Tutorial"
   ]
  },
  {
   "attachments": {},
   "cell_type": "markdown",
   "metadata": {},
   "source": [
    "This is a quick showcase of how to use the `logging` library to read and debug processes"
   ]
  },
  {
   "attachments": {},
   "cell_type": "markdown",
   "metadata": {},
   "source": [
    "The first example is a simple replacement of what was formerly a `print()` statement warning to a `logging` event. While nothing is outputted and the file is not saved, a logging message is sent"
   ]
  },
  {
   "cell_type": "code",
   "execution_count": 1,
   "metadata": {},
   "outputs": [],
   "source": [
    "import logging\n",
    "from file_processing import File\n",
    "from file_processing import Directory"
   ]
  },
  {
   "cell_type": "code",
   "execution_count": 2,
   "metadata": {},
   "outputs": [
    {
     "name": "stderr",
     "output_type": "stream",
     "text": [
      "INFO:root:No output path provided, file not saved.\n"
     ]
    }
   ],
   "source": [
    "logger = logging.getLogger()\n",
    "logger.setLevel(logging.INFO)\n",
    "\n",
    "file = File('file_processing/README.md')\n",
    "file.save()"
   ]
  },
  {
   "attachments": {},
   "cell_type": "markdown",
   "metadata": {},
   "source": [
    "A more useful application is recording what files failed to process. This helps debug errors such as corrupted files, permission errors, and temporary files that are currently in use \n",
    "\n",
    "Another use-case of the code below is to `setLevel(logging.INFO)` which outputs ALL files that are being processed. This way, if the program to crash, then it becomes possible to pinpoint at which file this occured at"
   ]
  },
  {
   "cell_type": "code",
   "execution_count": 3,
   "metadata": {},
   "outputs": [
    {
     "name": "stderr",
     "output_type": "stream",
     "text": [
      "Processing files: 0 files completed [00:00, ? files completed/s]ERROR:root:Error processing tests/resources/test_files/MapCanada_corrupted.jpg: FileProcessingFailedError\n",
      "ERROR:root:Error processing tests/resources/test_files/SampleReportScreenShot_corrupted.pdf: FileProcessingFailedError\n",
      "ERROR:root:Error processing tests/resources/test_files/Health - Canada.ca_corrupted.html: FileProcessingFailedError\n",
      "Processing files: 8 files completed [00:00, 13.22 files completed/s]ERROR:root:Error processing tests/resources/test_files/coffee_corrupted.json: FileCorruptionError\n",
      "ERROR:root:Error processing tests/resources/test_files/callbacks_corrupted.py: FileProcessingFailedError\n",
      "Processing files: 10 files completed [00:02,  2.94 files completed/s]ERROR:root:Error processing tests/resources/test_files/sample_speech_corrupted.mp3: FileProcessingFailedError\n",
      "ERROR:root:Error processing tests/resources/test_files/Test_for_RTF_corrupted.rtf: FileProcessingFailedError\n",
      "ERROR:root:Error processing tests/resources/test_files/MapCanada_corrupted.png: FileProcessingFailedError\n",
      "ERROR:root:Error processing tests/resources/test_files/MapleLeaf_corrupted.heif: FileProcessingFailedError\n",
      "ERROR:root:Error processing tests/resources/test_files/MSEdgeIcon_corrupted.gif: FileProcessingFailedError\n",
      "ERROR:root:Error processing tests/resources/test_files/Sample_corrupted.xml: FileProcessingFailedError\n",
      "ERROR:root:Error processing tests/resources/test_files/MSWordIcon_corrupted.tiff: FileProcessingFailedError\n",
      "ERROR:root:Error processing tests/resources/test_files/Test_excel_file_corrupted.xlsx: FileCorruptionError\n",
      "Processing files: 39 files completed [00:11,  2.36 files completed/s]ERROR:root:Error processing tests/resources/test_files/2021_Census_English_corrupted.csv: FileProcessingFailedError\n",
      "Processing files: 43 files completed [00:28,  1.26s/ files completed]ERROR:root:Error processing tests/resources/test_files/HealthCanadaOverviewFromWikipedia_corrupted.pptx: FileCorruptionError\n",
      "ERROR:root:Error processing tests/resources/test_files/CanadaLogo_corrupted.tif: FileProcessingFailedError\n",
      "ERROR:extract_msg.msg_classes.msg:not an OLE2 structured storage file\n",
      "ERROR:root:Error processing tests/resources/test_files/Test Email_corrupted.msg: FileProcessingFailedError\n",
      "Processing files: 58 files completed [00:29,  1.80 files completed/s]ERROR:root:Error processing tests/resources/test_files/MapleLeaf_corrupted.heic: FileProcessingFailedError\n",
      "ERROR:root:Error processing tests/resources/test_files/SampleReport_corrupted.zip: FileProcessingFailedError\n",
      "ERROR:root:Error processing tests/resources/test_files/HealthCanadaOverviewFromWikipedia_corrupted.docx: FileCorruptionError\n",
      "Processing files: 74 files completed [00:29,  3.63 files completed/s]ERROR:root:Error processing tests/resources/test_files/government_of_canada_wikipedia_corrupted.txt: FileProcessingFailedError\n",
      "Processing files: 88 files completed [00:29,  2.96 files completed/s]\n",
      "Processing batches: 1 batches completed [00:29, 29.71s/ batches completed]\n"
     ]
    }
   ],
   "source": [
    "logger = logging.getLogger()\n",
    "logger.setLevel(logging.ERROR)\n",
    "\n",
    "directory = Directory('tests/resources/test_files')\n",
    "directory.generate_report('./corrupted_file_report.csv')"
   ]
  }
 ],
 "metadata": {
  "kernelspec": {
   "display_name": ".venv",
   "language": "python",
   "name": "python3"
  },
  "language_info": {
   "codemirror_mode": {
    "name": "ipython",
    "version": 3
   },
   "file_extension": ".py",
   "mimetype": "text/x-python",
   "name": "python",
   "nbconvert_exporter": "python",
   "pygments_lexer": "ipython3",
   "version": "3.11.6"
  },
  "orig_nbformat": 4
 },
 "nbformat": 4,
 "nbformat_minor": 2
}
